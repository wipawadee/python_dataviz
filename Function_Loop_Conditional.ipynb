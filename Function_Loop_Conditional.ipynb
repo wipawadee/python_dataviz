{
 "cells": [
  {
   "cell_type": "markdown",
   "metadata": {},
   "source": [
    "# Function\n",
    "### print ชื่อ xxx นามสกุล YYY รหัส ZZZ\n",
    "### print เกรด วิชา stat1 >>> AAA"
   ]
  },
  {
   "cell_type": "code",
   "execution_count": 3,
   "metadata": {},
   "outputs": [
    {
     "name": "stdout",
     "output_type": "stream",
     "text": [
      "ชื่อ วิภาวดี แก้วดวงดี รหัส 000\n"
     ]
    }
   ],
   "source": [
    "a = 'ชื่อ วิภาวดี แก้วดวงดี รหัส 000'\n",
    "print (a)"
   ]
  },
  {
   "cell_type": "code",
   "execution_count": 7,
   "metadata": {},
   "outputs": [
    {
     "name": "stdout",
     "output_type": "stream",
     "text": [
      "ชื่อ วิภาวดี นามสกุลแก้วดวงดี รหัส 009\n"
     ]
    }
   ],
   "source": [
    "name = 'วิภาวดี'\n",
    "surname='แก้วดวงดี'\n",
    "ID='009'\n",
    "b = f'ชื่อ {name} นามสกุล{surname} รหัส {ID}'\n",
    "print (b)"
   ]
  },
  {
   "cell_type": "markdown",
   "metadata": {},
   "source": [
    "### Functiontemplate"
   ]
  },
  {
   "cell_type": "markdown",
   "metadata": {},
   "source": [
    "```python\n",
    "def function_name(x):\n",
    "    do_something\n",
    "    return y"
   ]
  },
  {
   "cell_type": "markdown",
   "metadata": {},
   "source": [
    "### normail function"
   ]
  },
  {
   "cell_type": "code",
   "execution_count": 8,
   "metadata": {},
   "outputs": [],
   "source": [
    "def print_line1(name1,surname1,ID1):\n",
    "    st = f'ชื่อ {name1} นามสกุล{surname1} รหัส {ID1}'\n",
    "    return st"
   ]
  },
  {
   "cell_type": "code",
   "execution_count": 10,
   "metadata": {},
   "outputs": [
    {
     "name": "stdout",
     "output_type": "stream",
     "text": [
      "ชื่อ วิภาวดี นามสกุลแก้วดวงดี รหัส 603021112-8\n"
     ]
    }
   ],
   "source": [
    "print(print_line1('วิภาวดี','แก้วดวงดี','603021112-8'))"
   ]
  },
  {
   "cell_type": "markdown",
   "metadata": {},
   "source": [
    "### ฟังก์ชั่นที่ปริ้น 2 line และ 4 line\n"
   ]
  },
  {
   "cell_type": "markdown",
   "metadata": {},
   "source": [
    "### function without output"
   ]
  },
  {
   "cell_type": "code",
   "execution_count": 15,
   "metadata": {},
   "outputs": [],
   "source": [
    "def print_2lines(name1,surname1,ID1,grade):\n",
    "    st = f'ชื่อ {name1} นามสกุล{surname1} รหัส {ID1}'\n",
    "    print (st)\n",
    "    st2 = f'เกรดวิชา stat1 >>> {grade}'\n",
    "    print(st2)"
   ]
  },
  {
   "cell_type": "code",
   "execution_count": 17,
   "metadata": {},
   "outputs": [
    {
     "name": "stdout",
     "output_type": "stream",
     "text": [
      "ชื่อ วิภาวดี นามสกุลแก้วดวงดี รหัส 603021112-8\n",
      "เกรดวิชา stat1 >>> A\n"
     ]
    }
   ],
   "source": [
    "print_2lines('วิภาวดี','แก้วดวงดี','603021112-8','A')"
   ]
  },
  {
   "cell_type": "code",
   "execution_count": 20,
   "metadata": {},
   "outputs": [],
   "source": [
    "def print_4lines(name1,surname1,ID1,grade):\n",
    "    st = f'ชื่อ {name1} นามสกุล{surname1} รหัส {ID1}'\n",
    "    print (st)\n",
    "    st2 = f'เกรดวิชา stat1 >>> {grade}'\n",
    "    print(st2)"
   ]
  },
  {
   "cell_type": "code",
   "execution_count": 22,
   "metadata": {},
   "outputs": [
    {
     "name": "stdout",
     "output_type": "stream",
     "text": [
      "ชื่อ วิภาวดี นามสกุลแก้วดวงดี รหัส 603021112-8\n",
      "เกรดวิชา stat1 >>> A\n",
      "ชื่อ พุธิตา นามสกุลเจือจันทร์ รหัส 603021879-8\n",
      "เกรดวิชา stat1 >>> A\n",
      "ชื่อ กรรณิกา นามสกุลวิรัชวา รหัส 603020904-0\n",
      "เกรดวิชา stat1 >>> A\n",
      "ชื่อ ปิยาพร นามสกุลอุตรนคร รหัส 603021873-0\n",
      "เกรดวิชา stat1 >>> A\n"
     ]
    }
   ],
   "source": [
    "print_4lines('วิภาวดี','แก้วดวงดี','603021112-8','A')\n",
    "print_4lines('พุธิตา','เจือจันทร์','603021879-8','A')\n",
    "print_4lines('กรรณิกา','วิรัชวา','603020904-0','A')\n",
    "print_4lines('ปิยาพร','อุตรนคร','603021873-0','A')"
   ]
  },
  {
   "cell_type": "markdown",
   "metadata": {},
   "source": [
    "#### function without input\n",
    "     ฟังก์ชั่นที่ไม่มี input output แค่ตัด return ออก"
   ]
  },
  {
   "cell_type": "code",
   "execution_count": 23,
   "metadata": {},
   "outputs": [],
   "source": [
    "def two_x_three():\n",
    "    x = 2*3\n",
    "    return x"
   ]
  },
  {
   "cell_type": "code",
   "execution_count": 25,
   "metadata": {},
   "outputs": [
    {
     "data": {
      "text/plain": [
       "6"
      ]
     },
     "execution_count": 25,
     "metadata": {},
     "output_type": "execute_result"
    }
   ],
   "source": [
    " two_x_three()"
   ]
  },
  {
   "cell_type": "markdown",
   "metadata": {},
   "source": [
    "### Function with deault argument \n",
    "มี input เป็นตัวดีฟอ ถ้าไม่ใส่ค่านั้นก็จะใส่ค่า F ให้ "
   ]
  },
  {
   "cell_type": "code",
   "execution_count": 28,
   "metadata": {},
   "outputs": [],
   "source": [
    "def print_4lines(name1,surname1,ID1,grade='F'):\n",
    "    st = f'ชื่อ {name1} นามสกุล{surname1} รหัส {ID1}'\n",
    "    print (st)\n",
    "    st2 = f'เกรดวิชา stat1 >>> {grade}'\n",
    "    print(st2)"
   ]
  },
  {
   "cell_type": "code",
   "execution_count": 29,
   "metadata": {},
   "outputs": [
    {
     "name": "stdout",
     "output_type": "stream",
     "text": [
      "ชื่อ วิภาวดี นามสกุลแก้วดวงดี รหัส 603021112-8\n",
      "เกรดวิชา stat1 >>> F\n"
     ]
    }
   ],
   "source": [
    "print_4lines('วิภาวดี','แก้วดวงดี','603021112-8',)"
   ]
  },
  {
   "cell_type": "code",
   "execution_count": 30,
   "metadata": {},
   "outputs": [
    {
     "name": "stdout",
     "output_type": "stream",
     "text": [
      "ชื่อ วิภาวดี นามสกุลแก้วดวงดี รหัส 603021112-8\n",
      "เกรดวิชา stat1 >>> A\n"
     ]
    }
   ],
   "source": [
    "print_4lines('วิภาวดี','แก้วดวงดี','603021112-8','A')"
   ]
  },
  {
   "cell_type": "code",
   "execution_count": 31,
   "metadata": {},
   "outputs": [
    {
     "name": "stdout",
     "output_type": "stream",
     "text": [
      "ชื่อ แก้วดวงดี นามสกุลวิภาวดี รหัส 603021112-8\n",
      "เกรดวิชา stat1 >>> F\n"
     ]
    }
   ],
   "source": [
    "print_4lines(surname1 = 'วิภาวดี',name1 = 'แก้วดวงดี',ID1 = '603021112-8')"
   ]
  },
  {
   "cell_type": "markdown",
   "metadata": {},
   "source": [
    "# Loop วนซ้ำ"
   ]
  },
  {
   "cell_type": "markdown",
   "metadata": {},
   "source": [
    "```Python\n",
    "for each_member in listA:\n",
    "    do something\n",
    " ```"
   ]
  },
  {
   "cell_type": "code",
   "execution_count": 32,
   "metadata": {},
   "outputs": [
    {
     "name": "stdout",
     "output_type": "stream",
     "text": [
      "1\n",
      "2\n",
      "3\n"
     ]
    }
   ],
   "source": [
    "for i in [1,2,3]:\n",
    "    print(i)"
   ]
  },
  {
   "cell_type": "code",
   "execution_count": 35,
   "metadata": {},
   "outputs": [
    {
     "name": "stdout",
     "output_type": "stream",
     "text": [
      "W -> /\n",
      " \n",
      "i -> /\n",
      " \n",
      "p -> /\n",
      " \n",
      "a -> /\n",
      " \n",
      "w -> /\n",
      " \n",
      "a -> /\n",
      " \n",
      "d -> /\n",
      " \n",
      "e -> /\n",
      " \n",
      "e -> /\n",
      " \n"
     ]
    }
   ],
   "source": [
    "for i in 'Wipawadee':\n",
    "    print(f'{i} -> /')\n",
    "    print(' ')"
   ]
  },
  {
   "cell_type": "markdown",
   "metadata": {},
   "source": [
    "## 1 สร้างlist ชื่อ เพื่อนที่อยู๋ในแถวเดียวกัน แล้ว\n",
    "## 2 วนลูป print คำประโยคว่า ชื่อเรา รัก เพื่อน"
   ]
  },
  {
   "cell_type": "code",
   "execution_count": 69,
   "metadata": {},
   "outputs": [
    {
     "name": "stdout",
     "output_type": "stream",
     "text": [
      "['min', 'bird', 'dew', 'ai', 'kwan']\n"
     ]
    }
   ],
   "source": [
    "list_f = ['min','bird','dew','ai','kwan']\n",
    "print (list_a)"
   ]
  },
  {
   "cell_type": "code",
   "execution_count": 70,
   "metadata": {},
   "outputs": [],
   "source": [
    "def print_feeling(I,feeling,friend):\n",
    "    print(f'{I} {feeling} {friend}')"
   ]
  },
  {
   "cell_type": "code",
   "execution_count": 71,
   "metadata": {},
   "outputs": [
    {
     "name": "stdout",
     "output_type": "stream",
     "text": [
      "earn love min\n"
     ]
    }
   ],
   "source": [
    "print_feeling('earn','love','min')"
   ]
  },
  {
   "cell_type": "code",
   "execution_count": 72,
   "metadata": {},
   "outputs": [
    {
     "name": "stdout",
     "output_type": "stream",
     "text": [
      "earn love min\n",
      "earn love bird\n",
      "earn love dew\n",
      "earn love ai\n",
      "earn love kwan\n"
     ]
    }
   ],
   "source": [
    "for f in list_f :\n",
    "    print_feeling('earn','love',f)"
   ]
  },
  {
   "cell_type": "markdown",
   "metadata": {},
   "source": [
    "# Loop in Loop"
   ]
  },
  {
   "cell_type": "code",
   "execution_count": 87,
   "metadata": {},
   "outputs": [
    {
     "name": "stdout",
     "output_type": "stream",
     "text": [
      "min love min\n",
      "min love bird\n",
      "min love dew\n",
      "min love ai\n",
      "min love kwan\n",
      "bird love min\n",
      "bird love bird\n",
      "bird love dew\n",
      "bird love ai\n",
      "bird love kwan\n",
      "dew love min\n",
      "dew love bird\n",
      "dew love dew\n",
      "dew love ai\n",
      "dew love kwan\n",
      "ai love min\n",
      "ai love bird\n",
      "ai love dew\n",
      "ai love ai\n",
      "ai love kwan\n",
      "kwan love min\n",
      "kwan love bird\n",
      "kwan love dew\n",
      "kwan love ai\n",
      "kwan love kwan\n"
     ]
    }
   ],
   "source": [
    "for name1 in list_f:\n",
    "    for name2 in list_f:\n",
    "        print_feeling(name1,'love',name2)"
   ]
  },
  {
   "cell_type": "markdown",
   "metadata": {},
   "source": [
    "#### loop in function"
   ]
  },
  {
   "cell_type": "code",
   "execution_count": 77,
   "metadata": {},
   "outputs": [],
   "source": [
    "def print_feelings(I,feeling,friends):\n",
    "    for friend in friends:\n",
    "        print(f'{I} {feeling} {friend}')"
   ]
  },
  {
   "cell_type": "code",
   "execution_count": 78,
   "metadata": {},
   "outputs": [
    {
     "name": "stdout",
     "output_type": "stream",
     "text": [
      "earn love min\n",
      "earn love bird\n",
      "earn love dew\n",
      "earn love ai\n",
      "earn love kwan\n"
     ]
    }
   ],
   "source": [
    "print_feelings('earn','love',list_f)"
   ]
  },
  {
   "cell_type": "markdown",
   "metadata": {},
   "source": [
    "### Looping in dict"
   ]
  },
  {
   "cell_type": "code",
   "execution_count": 81,
   "metadata": {},
   "outputs": [
    {
     "data": {
      "text/plain": [
       "{'วิภาวดี': 'B', 'ศุภนิตา': 'C', 'ปนัดดา': 'A', 'ทรงกลด': 'F'}"
      ]
     },
     "execution_count": 81,
     "metadata": {},
     "output_type": "execute_result"
    }
   ],
   "source": [
    "name_grade = {'วิภาวดี':'B','ศุภนิตา':'C','ปนัดดา':'A','ทรงกลด':'F'}\n",
    "name_grade"
   ]
  },
  {
   "cell_type": "code",
   "execution_count": 82,
   "metadata": {},
   "outputs": [
    {
     "data": {
      "text/plain": [
       "'A'"
      ]
     },
     "execution_count": 82,
     "metadata": {},
     "output_type": "execute_result"
    }
   ],
   "source": [
    "name_grade['ปนัดดา']"
   ]
  },
  {
   "cell_type": "markdown",
   "metadata": {},
   "source": [
    "## list คำสั่งของindex โดยใช้คำสั่ง .keys\n"
   ]
  },
  {
   "cell_type": "code",
   "execution_count": 83,
   "metadata": {},
   "outputs": [
    {
     "name": "stdout",
     "output_type": "stream",
     "text": [
      "วิภาวดี\n",
      "ศุภนิตา\n",
      "ปนัดดา\n",
      "ทรงกลด\n"
     ]
    }
   ],
   "source": [
    "for i in name_grade.keys():\n",
    "    print(i)"
   ]
  },
  {
   "cell_type": "code",
   "execution_count": 84,
   "metadata": {},
   "outputs": [
    {
     "name": "stdout",
     "output_type": "stream",
     "text": [
      "วิภาวดี ได้เกรดB\n",
      "ศุภนิตา ได้เกรดC\n",
      "ปนัดดา ได้เกรดA\n",
      "ทรงกลด ได้เกรดF\n"
     ]
    }
   ],
   "source": [
    "for i in name_grade.keys():\n",
    "    print(f'{i} ได้เกรด{name_grade[i]}')"
   ]
  },
  {
   "cell_type": "markdown",
   "metadata": {},
   "source": [
    "# conditional"
   ]
  },
  {
   "cell_type": "markdown",
   "metadata": {},
   "source": [
    "```python\n",
    "if conditional:\n",
    "    do something\n",
    "elif conditional2:\n",
    "    do another think\n",
    "else:\n",
    "    do...\n",
    "\n",
    "```"
   ]
  },
  {
   "cell_type": "code",
   "execution_count": 90,
   "metadata": {},
   "outputs": [
    {
     "name": "stdout",
     "output_type": "stream",
     "text": [
      "min love bird\n",
      "min love dew\n",
      "min love ai\n",
      "min love kwan\n",
      "bird love min\n",
      "bird love dew\n",
      "bird love ai\n",
      "bird love kwan\n",
      "dew love min\n",
      "dew love bird\n",
      "dew love ai\n",
      "dew love kwan\n",
      "ai love min\n",
      "ai love bird\n",
      "ai love dew\n",
      "ai love kwan\n",
      "kwan love min\n",
      "kwan love bird\n",
      "kwan love dew\n",
      "kwan love ai\n"
     ]
    }
   ],
   "source": [
    "for name1 in list_f:\n",
    "    for name2 in list_f:\n",
    "        if name1 != name2:\n",
    "           print_feeling(name1, 'love' ,name2)"
   ]
  },
  {
   "cell_type": "code",
   "execution_count": 93,
   "metadata": {},
   "outputs": [
    {
     "name": "stdout",
     "output_type": "stream",
     "text": [
      "Yes\n"
     ]
    }
   ],
   "source": [
    "if True:\n",
    "    print( 'Yes' )"
   ]
  },
  {
   "cell_type": "code",
   "execution_count": 94,
   "metadata": {},
   "outputs": [],
   "source": [
    "if False:\n",
    "    print('No')"
   ]
  },
  {
   "cell_type": "code",
   "execution_count": 95,
   "metadata": {},
   "outputs": [
    {
     "name": "stdout",
     "output_type": "stream",
     "text": [
      "No\n"
     ]
    }
   ],
   "source": [
    "if False:\n",
    "    print('Yes')\n",
    "else:\n",
    "    print('No')"
   ]
  },
  {
   "cell_type": "code",
   "execution_count": 96,
   "metadata": {},
   "outputs": [
    {
     "data": {
      "text/plain": [
       "True"
      ]
     },
     "execution_count": 96,
     "metadata": {},
     "output_type": "execute_result"
    }
   ],
   "source": [
    "1==1"
   ]
  },
  {
   "cell_type": "code",
   "execution_count": 97,
   "metadata": {},
   "outputs": [
    {
     "name": "stdout",
     "output_type": "stream",
     "text": [
      "1=1\n"
     ]
    }
   ],
   "source": [
    "if 1==1:\n",
    "    print('1=1')"
   ]
  },
  {
   "cell_type": "markdown",
   "metadata": {},
   "source": [
    "## == ,!=,>=,<=,<,>"
   ]
  },
  {
   "cell_type": "markdown",
   "metadata": {},
   "source": [
    "## การบ้าน เขียนฟังก์ชั่นตัดเกรด(ใช้if ธรรมดา)โดยที่ input เป็นคะแนน(0-100) output เป็นเกรด(F-A)\n",
    "input = \n",
    "ตามของมัธยม 1,50,65,90,101,-5,49"
   ]
  },
  {
   "cell_type": "code",
   "execution_count": null,
   "metadata": {},
   "outputs": [],
   "source": []
  }
 ],
 "metadata": {
  "kernelspec": {
   "display_name": "Python 3",
   "language": "python",
   "name": "python3"
  },
  "language_info": {
   "codemirror_mode": {
    "name": "ipython",
    "version": 3
   },
   "file_extension": ".py",
   "mimetype": "text/x-python",
   "name": "python",
   "nbconvert_exporter": "python",
   "pygments_lexer": "ipython3",
   "version": "3.7.4"
  }
 },
 "nbformat": 4,
 "nbformat_minor": 2
}
